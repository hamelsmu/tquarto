{
  "cells": [
    {
      "cell_type": "markdown",
      "metadata": {},
      "source": [
        "# tquarto\n",
        "\n",
        "This is a Quarto website.\n",
        "\n",
        "To learn more about Quarto websites visit\n",
        "<https://quarto.org/docs/websites>."
      ],
      "id": "725c36a9-8876-45ad-bf15-ae11a4227f2d"
    }
  ],
  "nbformat": 4,
  "nbformat_minor": 5,
  "metadata": {
    "kernelspec": {
      "display_name": "Python 3",
      "language": "python",
      "name": "python3"
    }
  }
}