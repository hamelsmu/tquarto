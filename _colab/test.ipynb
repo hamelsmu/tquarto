{
  "cells": [
    {
      "cell_type": "markdown",
      "metadata": {},
      "source": [
        "# test nb\n",
        "\n",
        "This is a test notebook\n",
        "\n",
        "my name is hamel"
      ],
      "id": "4b6f3a5c-e728-4d94-ba4e-d2cb65bb1524"
    }
  ],
  "nbformat": 4,
  "nbformat_minor": 5,
  "metadata": {
    "kernelspec": {
      "name": "python3",
      "display_name": "Python 3.9.12",
      "language": "python"
    },
    "language_info": {
      "name": "python",
      "version": "3.9.12"
    },
    "vscode": {
      "interpreter": {
        "hash": "42fd40e048e0585f88ec242f050f7ef0895cf845a8dd1159352394e5826cd102"
      }
    }
  }
}