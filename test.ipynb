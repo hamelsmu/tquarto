{
 "cells": [
  {
   "cell_type": "raw",
   "id": "49d95692-6900-4675-a5a3-ec6fd3d53922",
   "metadata": {},
   "source": [
    "---\n",
    "title: test nb\n",
    "---"
   ]
  },
  {
   "cell_type": "markdown",
   "id": "e6bca234-bd0c-44db-b418-95058c1352aa",
   "metadata": {},
   "source": [
    "This is a test notebook"
   ]
  },
  {
   "cell_type": "code",
   "execution_count": null,
   "id": "60bf0ce8-a262-40a9-abec-a18b4f562228",
   "metadata": {},
   "outputs": [
    {
     "name": "stdout",
     "output_type": "stream",
     "text": [
      "hello\n"
     ]
    }
   ],
   "source": [
    "print('hello')"
   ]
  },
  {
   "cell_type": "code",
   "execution_count": null,
   "id": "ce1cf191-f643-4a97-a11d-2649f49e561a",
   "metadata": {},
   "outputs": [],
   "source": []
  }
 ],
 "metadata": {
  "kernelspec": {
   "display_name": "Python 3 (ipykernel)",
   "language": "python",
   "name": "python3"
  }
 },
 "nbformat": 4,
 "nbformat_minor": 5
}
